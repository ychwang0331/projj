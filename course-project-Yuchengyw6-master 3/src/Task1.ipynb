{
 "cells": [
  {
   "cell_type": "code",
   "execution_count": 42,
   "id": "71191dd1",
   "metadata": {},
   "outputs": [],
   "source": [
    "from pyspark.sql.functions import regexp_extract, col\n",
    "import pyspark\n",
    "from pyspark.sql import SparkSession, SQLContext\n",
    "from pyspark.sql.functions import to_date, col, count, when, isnan, regexp_replace\n",
    "from pyspark.ml.feature import Imputer\n",
    "from pyspark.sql.functions import *\n",
    "\n",
    "appName = \"Big Data Analytics\"\n",
    "master = \"local\"\n",
    "\n",
    "# Create Configuration object for Spark.\n",
    "conf = pyspark.SparkConf()\\\n",
    "    .set('spark.driver.host','127.0.0.1')\\\n",
    "    .setAppName(appName)\\\n",
    "    .setMaster(master)\n",
    "\n",
    "# Create Spark Context with the new configurations rather than rely on the default one\n",
    "sc = SparkContext.getOrCreate(conf=conf)\n",
    "\n",
    "# You need to create SQL Context to conduct some database operations like what we will see later.\n",
    "sqlContext = SQLContext(sc)\n",
    "\n",
    "# If you have SQL context, you create the session from the Spark Context\n",
    "spark = sqlContext.sparkSession.builder.config('spark.sql.codegen.wholeStage', 'false').getOrCreate()\n",
    "\n",
    "#Ingest data from the players.csv into Spark Dataframe. \n",
    "players_15_df = (spark.read\n",
    "         .format(\"csv\")\n",
    "         .option(\"inferSchema\", \"true\")\n",
    "         .option(\"header\",\"true\")\n",
    "         .load(\"/Users/wyc/players_15.csv\")\n",
    "      )\n",
    "\n",
    "players_16_df = (spark.read\n",
    "         .format(\"csv\")\n",
    "         .option(\"inferSchema\", \"true\")\n",
    "         .option(\"header\",\"true\")\n",
    "         .load(\"/Users/wyc/players_16.csv\")\n",
    "      )\n",
    "\n",
    "players_17_df = (spark.read\n",
    "         .format(\"csv\")\n",
    "         .option(\"inferSchema\", \"true\")\n",
    "         .option(\"header\",\"true\")\n",
    "         .load(\"/Users/wyc/players_17.csv\")\n",
    "      )\n",
    "\n",
    "players_18_df = (spark.read\n",
    "         .format(\"csv\")\n",
    "         .option(\"inferSchema\", \"true\")\n",
    "         .option(\"header\",\"true\")\n",
    "         .load(\"/Users/wyc/players_18.csv\")\n",
    "      )\n",
    "\n",
    "players_19_df = (spark.read\n",
    "         .format(\"csv\")\n",
    "         .option(\"inferSchema\", \"true\")\n",
    "         .option(\"header\",\"true\")\n",
    "         .load(\"/Users/wyc/players_19.csv\")\n",
    "      )\n",
    "\n",
    "players_20_df = (spark.read\n",
    "         .format(\"csv\")\n",
    "         .option(\"inferSchema\", \"true\")\n",
    "         .option(\"header\",\"true\")\n",
    "         .load(\"/Users/wyc/players_20.csv\")\n",
    "      )"
   ]
  },
  {
   "cell_type": "code",
   "execution_count": 43,
   "id": "aa68977f",
   "metadata": {
    "tags": []
   },
   "outputs": [],
   "source": [
    "merged_df = players_15_df.union(players_16_df).union(players_17_df)\\\n",
    "    .union(players_18_df).union(players_19_df).union(players_20_df)"
   ]
  },
  {
   "cell_type": "code",
   "execution_count": 44,
   "id": "e0bd06b1",
   "metadata": {},
   "outputs": [
    {
     "name": "stdout",
     "output_type": "stream",
     "text": [
      "root\n",
      " |-- sofifa_id: integer (nullable = true)\n",
      " |-- player_url: string (nullable = true)\n",
      " |-- short_name: string (nullable = true)\n",
      " |-- long_name: string (nullable = true)\n",
      " |-- age: integer (nullable = true)\n",
      " |-- dob: string (nullable = true)\n",
      " |-- height_cm: integer (nullable = true)\n",
      " |-- weight_kg: integer (nullable = true)\n",
      " |-- nationality: string (nullable = true)\n",
      " |-- club: string (nullable = true)\n",
      " |-- overall: integer (nullable = true)\n",
      " |-- potential: integer (nullable = true)\n",
      " |-- value_eur: integer (nullable = true)\n",
      " |-- wage_eur: integer (nullable = true)\n",
      " |-- player_positions: string (nullable = true)\n",
      " |-- preferred_foot: string (nullable = true)\n",
      " |-- international_reputation: integer (nullable = true)\n",
      " |-- weak_foot: integer (nullable = true)\n",
      " |-- skill_moves: integer (nullable = true)\n",
      " |-- work_rate: string (nullable = true)\n",
      " |-- body_type: string (nullable = true)\n",
      " |-- real_face: string (nullable = true)\n",
      " |-- release_clause_eur: string (nullable = true)\n",
      " |-- player_tags: string (nullable = true)\n",
      " |-- team_position: string (nullable = true)\n",
      " |-- team_jersey_number: integer (nullable = true)\n",
      " |-- loaned_from: string (nullable = true)\n",
      " |-- joined: string (nullable = true)\n",
      " |-- contract_valid_until: integer (nullable = true)\n",
      " |-- nation_position: string (nullable = true)\n",
      " |-- nation_jersey_number: integer (nullable = true)\n",
      " |-- pace: integer (nullable = true)\n",
      " |-- shooting: integer (nullable = true)\n",
      " |-- passing: integer (nullable = true)\n",
      " |-- dribbling: integer (nullable = true)\n",
      " |-- defending: integer (nullable = true)\n",
      " |-- physic: integer (nullable = true)\n",
      " |-- gk_diving: integer (nullable = true)\n",
      " |-- gk_handling: integer (nullable = true)\n",
      " |-- gk_kicking: integer (nullable = true)\n",
      " |-- gk_reflexes: integer (nullable = true)\n",
      " |-- gk_speed: integer (nullable = true)\n",
      " |-- gk_positioning: integer (nullable = true)\n",
      " |-- player_traits: string (nullable = true)\n",
      " |-- attacking_crossing: string (nullable = true)\n",
      " |-- attacking_finishing: string (nullable = true)\n",
      " |-- attacking_heading_accuracy: string (nullable = true)\n",
      " |-- attacking_short_passing: string (nullable = true)\n",
      " |-- attacking_volleys: string (nullable = true)\n",
      " |-- skill_dribbling: string (nullable = true)\n",
      " |-- skill_curve: string (nullable = true)\n",
      " |-- skill_fk_accuracy: string (nullable = true)\n",
      " |-- skill_long_passing: string (nullable = true)\n",
      " |-- skill_ball_control: string (nullable = true)\n",
      " |-- movement_acceleration: string (nullable = true)\n",
      " |-- movement_sprint_speed: string (nullable = true)\n",
      " |-- movement_agility: string (nullable = true)\n",
      " |-- movement_reactions: string (nullable = true)\n",
      " |-- movement_balance: string (nullable = true)\n",
      " |-- power_shot_power: string (nullable = true)\n",
      " |-- power_jumping: string (nullable = true)\n",
      " |-- power_stamina: string (nullable = true)\n",
      " |-- power_strength: string (nullable = true)\n",
      " |-- power_long_shots: string (nullable = true)\n",
      " |-- mentality_aggression: string (nullable = true)\n",
      " |-- mentality_interceptions: string (nullable = true)\n",
      " |-- mentality_positioning: string (nullable = true)\n",
      " |-- mentality_vision: string (nullable = true)\n",
      " |-- mentality_penalties: string (nullable = true)\n",
      " |-- mentality_composure: string (nullable = true)\n",
      " |-- defending_marking: string (nullable = true)\n",
      " |-- defending_standing_tackle: string (nullable = true)\n",
      " |-- defending_sliding_tackle: string (nullable = true)\n",
      " |-- goalkeeping_diving: string (nullable = true)\n",
      " |-- goalkeeping_handling: string (nullable = true)\n",
      " |-- goalkeeping_kicking: string (nullable = true)\n",
      " |-- goalkeeping_positioning: string (nullable = true)\n",
      " |-- goalkeeping_reflexes: string (nullable = true)\n",
      " |-- ls: string (nullable = true)\n",
      " |-- st: string (nullable = true)\n",
      " |-- rs: string (nullable = true)\n",
      " |-- lw: string (nullable = true)\n",
      " |-- lf: string (nullable = true)\n",
      " |-- cf: string (nullable = true)\n",
      " |-- rf: string (nullable = true)\n",
      " |-- rw: string (nullable = true)\n",
      " |-- lam: string (nullable = true)\n",
      " |-- cam: string (nullable = true)\n",
      " |-- ram: string (nullable = true)\n",
      " |-- lm: string (nullable = true)\n",
      " |-- lcm: string (nullable = true)\n",
      " |-- cm: string (nullable = true)\n",
      " |-- rcm: string (nullable = true)\n",
      " |-- rm: string (nullable = true)\n",
      " |-- lwb: string (nullable = true)\n",
      " |-- ldm: string (nullable = true)\n",
      " |-- cdm: string (nullable = true)\n",
      " |-- rdm: string (nullable = true)\n",
      " |-- rwb: string (nullable = true)\n",
      " |-- lb: string (nullable = true)\n",
      " |-- lcb: string (nullable = true)\n",
      " |-- cb: string (nullable = true)\n",
      " |-- rcb: string (nullable = true)\n",
      " |-- rb: string (nullable = true)\n",
      "\n"
     ]
    }
   ],
   "source": [
    "merged_df.printSchema()"
   ]
  },
  {
   "cell_type": "code",
   "execution_count": 45,
   "id": "249c093e",
   "metadata": {},
   "outputs": [],
   "source": [
    "full_df = merged_df"
   ]
  },
  {
   "cell_type": "code",
   "execution_count": 46,
   "id": "05fe73fa",
   "metadata": {},
   "outputs": [
    {
     "name": "stderr",
     "output_type": "stream",
     "text": [
      "[Stage 99:=================================================>      (14 + 2) / 16]\r"
     ]
    },
    {
     "name": "stdout",
     "output_type": "stream",
     "text": [
      "+---------+----------+----------+---------+---+---+---------+---------+-----------+----+-------+---------+---------+--------+----------------+--------------+------------------------+---------+-----------+---------+---------+---------+------------------+-----------+-------------+------------------+-----------+------+--------------------+---------------+--------------------+-----+--------+-------+---------+---------+------+---------+-----------+----------+-----------+--------+--------------+-------------+------------------+-------------------+--------------------------+-----------------------+-----------------+---------------+-----------+-----------------+------------------+------------------+---------------------+---------------------+----------------+------------------+----------------+----------------+-------------+-------------+--------------+----------------+--------------------+-----------------------+---------------------+----------------+-------------------+-------------------+-----------------+-------------------------+------------------------+------------------+--------------------+-------------------+-----------------------+--------------------+-----+-----+-----+-----+-----+-----+-----+-----+-----+-----+-----+-----+-----+-----+-----+-----+-----+-----+-----+-----+-----+-----+-----+-----+-----+-----+\n",
      "|sofifa_id|player_url|short_name|long_name|age|dob|height_cm|weight_kg|nationality|club|overall|potential|value_eur|wage_eur|player_positions|preferred_foot|international_reputation|weak_foot|skill_moves|work_rate|body_type|real_face|release_clause_eur|player_tags|team_position|team_jersey_number|loaned_from|joined|contract_valid_until|nation_position|nation_jersey_number| pace|shooting|passing|dribbling|defending|physic|gk_diving|gk_handling|gk_kicking|gk_reflexes|gk_speed|gk_positioning|player_traits|attacking_crossing|attacking_finishing|attacking_heading_accuracy|attacking_short_passing|attacking_volleys|skill_dribbling|skill_curve|skill_fk_accuracy|skill_long_passing|skill_ball_control|movement_acceleration|movement_sprint_speed|movement_agility|movement_reactions|movement_balance|power_shot_power|power_jumping|power_stamina|power_strength|power_long_shots|mentality_aggression|mentality_interceptions|mentality_positioning|mentality_vision|mentality_penalties|mentality_composure|defending_marking|defending_standing_tackle|defending_sliding_tackle|goalkeeping_diving|goalkeeping_handling|goalkeeping_kicking|goalkeeping_positioning|goalkeeping_reflexes|   ls|   st|   rs|   lw|   lf|   cf|   rf|   rw|  lam|  cam|  ram|   lm|  lcm|   cm|  rcm|   rm|  lwb|  ldm|  cdm|  rdm|  rwb|   lb|  lcb|   cb|  rcb|   rb|\n",
      "+---------+----------+----------+---------+---+---+---------+---------+-----------+----+-------+---------+---------+--------+----------------+--------------+------------------------+---------+-----------+---------+---------+---------+------------------+-----------+-------------+------------------+-----------+------+--------------------+---------------+--------------------+-----+--------+-------+---------+---------+------+---------+-----------+----------+-----------+--------+--------------+-------------+------------------+-------------------+--------------------------+-----------------------+-----------------+---------------+-----------+-----------------+------------------+------------------+---------------------+---------------------+----------------+------------------+----------------+----------------+-------------+-------------+--------------+----------------+--------------------+-----------------------+---------------------+----------------+-------------------+-------------------+-----------------+-------------------------+------------------------+------------------+--------------------+-------------------+-----------------------+--------------------+-----+-----+-----+-----+-----+-----+-----+-----+-----+-----+-----+-----+-----+-----+-----+-----+-----+-----+-----+-----+-----+-----+-----+-----+-----+-----+\n",
      "|        0|         0|         0|        0|  0|  0|        0|        0|          0|   0|      0|        0|        0|       0|               0|             0|                       0|        0|          0|        0|        0|        0|             51644|      92698|         1326|              1326|      94290|  8038|                1333|          94470|               94470|11247|   11247|  11247|    11247|    11247| 11247|    89748|      89748|     89748|      89748|   89748|         89748|        56198|                 0|                  0|                         0|                      0|                0|              0|          0|                0|                 0|                 0|                    0|                    0|               0|                 0|               0|               0|            0|            0|             0|               0|                   0|                      0|                    0|               0|                  0|              30346|                0|                        0|                       0|                 0|                   0|                  0|                      0|                   0|11247|11247|11247|11247|11247|11247|11247|11247|11247|11247|11247|11247|11247|11247|11247|11247|11247|11247|11247|11247|11247|11247|11247|11247|11247|11247|\n",
      "+---------+----------+----------+---------+---+---+---------+---------+-----------+----+-------+---------+---------+--------+----------------+--------------+------------------------+---------+-----------+---------+---------+---------+------------------+-----------+-------------+------------------+-----------+------+--------------------+---------------+--------------------+-----+--------+-------+---------+---------+------+---------+-----------+----------+-----------+--------+--------------+-------------+------------------+-------------------+--------------------------+-----------------------+-----------------+---------------+-----------+-----------------+------------------+------------------+---------------------+---------------------+----------------+------------------+----------------+----------------+-------------+-------------+--------------+----------------+--------------------+-----------------------+---------------------+----------------+-------------------+-------------------+-----------------+-------------------------+------------------------+------------------+--------------------+-------------------+-----------------------+--------------------+-----+-----+-----+-----+-----+-----+-----+-----+-----+-----+-----+-----+-----+-----+-----+-----+-----+-----+-----+-----+-----+-----+-----+-----+-----+-----+\n",
      "\n"
     ]
    },
    {
     "name": "stderr",
     "output_type": "stream",
     "text": [
      "\r",
      "                                                                                \r"
     ]
    },
    {
     "data": {
      "text/plain": [
       "50497.5"
      ]
     },
     "execution_count": 46,
     "metadata": {},
     "output_type": "execute_result"
    }
   ],
   "source": [
    "total_rows = full_df.count()\n",
    "th = total_rows / 2\n",
    "variables = ['sofifa_id','player_url','short_name','long_name','age','dob','height_cm','weight_kg','nationality','club','overall','potential','value_eur','wage_eur','player_positions','preferred_foot','international_reputation','weak_foot','skill_moves','work_rate','body_type','real_face','release_clause_eur','player_tags','team_position','team_jersey_number','loaned_from','joined','contract_valid_until','nation_position','nation_jersey_number','pace','shooting','passing','dribbling','defending','physic','gk_diving','gk_handling','gk_kicking','gk_reflexes','gk_speed','gk_positioning','player_traits','attacking_crossing','attacking_finishing','attacking_heading_accuracy','attacking_short_passing','attacking_volleys','skill_dribbling','skill_curve','skill_fk_accuracy','skill_long_passing','skill_ball_control','movement_acceleration','movement_sprint_speed','movement_agility','movement_reactions','movement_balance','power_shot_power','power_jumping','power_stamina','power_strength','power_long_shots','mentality_aggression','mentality_interceptions','mentality_positioning','mentality_vision','mentality_penalties','mentality_composure','defending_marking','defending_standing_tackle','defending_sliding_tackle','goalkeeping_diving','goalkeeping_handling','goalkeeping_kicking','goalkeeping_positioning','goalkeeping_reflexes','ls','st','rs','lw','lf','cf','rf','rw','lam','cam','ram','lm','lcm','cm','rcm','rm','lwb','ldm','cdm','rdm','rwb','lb','lcb','cb','rcb','rb']\n",
    "full_df.select([count(when(isnan(c) | col(c).isNull(), c)).alias(c) for c in variables]).show()\n",
    "th\n"
   ]
  },
  {
   "cell_type": "code",
   "execution_count": 47,
   "id": "f9b3508f",
   "metadata": {},
   "outputs": [
    {
     "name": "stdout",
     "output_type": "stream",
     "text": [
      "root\n",
      " |-- sofifa_id: integer (nullable = true)\n",
      " |-- player_url: string (nullable = true)\n",
      " |-- short_name: string (nullable = true)\n",
      " |-- long_name: string (nullable = true)\n",
      " |-- age: integer (nullable = true)\n",
      " |-- dob: string (nullable = true)\n",
      " |-- height_cm: integer (nullable = true)\n",
      " |-- weight_kg: integer (nullable = true)\n",
      " |-- nationality: string (nullable = true)\n",
      " |-- club: string (nullable = true)\n",
      " |-- overall: integer (nullable = true)\n",
      " |-- potential: integer (nullable = true)\n",
      " |-- value_eur: integer (nullable = true)\n",
      " |-- wage_eur: integer (nullable = true)\n",
      " |-- player_positions: string (nullable = true)\n",
      " |-- preferred_foot: string (nullable = true)\n",
      " |-- international_reputation: integer (nullable = true)\n",
      " |-- weak_foot: integer (nullable = true)\n",
      " |-- skill_moves: integer (nullable = true)\n",
      " |-- work_rate: string (nullable = true)\n",
      " |-- body_type: string (nullable = true)\n",
      " |-- real_face: string (nullable = true)\n",
      " |-- team_position: string (nullable = true)\n",
      " |-- team_jersey_number: integer (nullable = true)\n",
      " |-- joined: string (nullable = true)\n",
      " |-- contract_valid_until: integer (nullable = true)\n",
      " |-- pace: integer (nullable = true)\n",
      " |-- shooting: integer (nullable = true)\n",
      " |-- passing: integer (nullable = true)\n",
      " |-- dribbling: integer (nullable = true)\n",
      " |-- defending: integer (nullable = true)\n",
      " |-- physic: integer (nullable = true)\n",
      " |-- attacking_crossing: string (nullable = true)\n",
      " |-- attacking_finishing: string (nullable = true)\n",
      " |-- attacking_heading_accuracy: string (nullable = true)\n",
      " |-- attacking_short_passing: string (nullable = true)\n",
      " |-- attacking_volleys: string (nullable = true)\n",
      " |-- skill_dribbling: string (nullable = true)\n",
      " |-- skill_curve: string (nullable = true)\n",
      " |-- skill_fk_accuracy: string (nullable = true)\n",
      " |-- skill_long_passing: string (nullable = true)\n",
      " |-- skill_ball_control: string (nullable = true)\n",
      " |-- movement_acceleration: string (nullable = true)\n",
      " |-- movement_sprint_speed: string (nullable = true)\n",
      " |-- movement_agility: string (nullable = true)\n",
      " |-- movement_reactions: string (nullable = true)\n",
      " |-- movement_balance: string (nullable = true)\n",
      " |-- power_shot_power: string (nullable = true)\n",
      " |-- power_jumping: string (nullable = true)\n",
      " |-- power_stamina: string (nullable = true)\n",
      " |-- power_strength: string (nullable = true)\n",
      " |-- power_long_shots: string (nullable = true)\n",
      " |-- mentality_aggression: string (nullable = true)\n",
      " |-- mentality_interceptions: string (nullable = true)\n",
      " |-- mentality_positioning: string (nullable = true)\n",
      " |-- mentality_vision: string (nullable = true)\n",
      " |-- mentality_penalties: string (nullable = true)\n",
      " |-- mentality_composure: string (nullable = true)\n",
      " |-- defending_marking: string (nullable = true)\n",
      " |-- defending_standing_tackle: string (nullable = true)\n",
      " |-- defending_sliding_tackle: string (nullable = true)\n",
      " |-- goalkeeping_diving: string (nullable = true)\n",
      " |-- goalkeeping_handling: string (nullable = true)\n",
      " |-- goalkeeping_kicking: string (nullable = true)\n",
      " |-- goalkeeping_positioning: string (nullable = true)\n",
      " |-- goalkeeping_reflexes: string (nullable = true)\n",
      " |-- ls: string (nullable = true)\n",
      " |-- st: string (nullable = true)\n",
      " |-- rs: string (nullable = true)\n",
      " |-- lw: string (nullable = true)\n",
      " |-- lf: string (nullable = true)\n",
      " |-- cf: string (nullable = true)\n",
      " |-- rf: string (nullable = true)\n",
      " |-- rw: string (nullable = true)\n",
      " |-- lam: string (nullable = true)\n",
      " |-- cam: string (nullable = true)\n",
      " |-- ram: string (nullable = true)\n",
      " |-- lm: string (nullable = true)\n",
      " |-- lcm: string (nullable = true)\n",
      " |-- cm: string (nullable = true)\n",
      " |-- rcm: string (nullable = true)\n",
      " |-- rm: string (nullable = true)\n",
      " |-- lwb: string (nullable = true)\n",
      " |-- ldm: string (nullable = true)\n",
      " |-- cdm: string (nullable = true)\n",
      " |-- rdm: string (nullable = true)\n",
      " |-- rwb: string (nullable = true)\n",
      " |-- lb: string (nullable = true)\n",
      " |-- lcb: string (nullable = true)\n",
      " |-- cb: string (nullable = true)\n",
      " |-- rcb: string (nullable = true)\n",
      " |-- rb: string (nullable = true)\n",
      "\n"
     ]
    }
   ],
   "source": [
    "dropped = list(variables[i] for i in [22,23,26,29,30,37,38,39,40,41,42,43])\n",
    "for v in dropped:\n",
    "    full_df = full_df.drop(col(v))\n",
    "full_df.printSchema()"
   ]
  },
  {
   "cell_type": "code",
   "execution_count": 56,
   "id": "03309b99",
   "metadata": {},
   "outputs": [
    {
     "data": {
      "text/plain": [
       "['release_clause_eur',\n",
       " 'player_tags',\n",
       " 'loaned_from',\n",
       " 'nation_position',\n",
       " 'nation_jersey_number',\n",
       " 'gk_diving',\n",
       " 'gk_handling',\n",
       " 'gk_kicking',\n",
       " 'gk_reflexes',\n",
       " 'gk_speed',\n",
       " 'gk_positioning',\n",
       " 'player_traits']"
      ]
     },
     "execution_count": 56,
     "metadata": {},
     "output_type": "execute_result"
    }
   ],
   "source": [
    "dropped"
   ]
  },
  {
   "cell_type": "code",
   "execution_count": 48,
   "id": "ba33a34e",
   "metadata": {},
   "outputs": [
    {
     "name": "stdout",
     "output_type": "stream",
     "text": [
      "root\n",
      " |-- sofifa_id: integer (nullable = true)\n",
      " |-- player_url: string (nullable = true)\n",
      " |-- short_name: string (nullable = true)\n",
      " |-- long_name: string (nullable = true)\n",
      " |-- age: integer (nullable = true)\n",
      " |-- dob: string (nullable = true)\n",
      " |-- height_cm: integer (nullable = true)\n",
      " |-- weight_kg: integer (nullable = true)\n",
      " |-- nationality: string (nullable = true)\n",
      " |-- club: string (nullable = true)\n",
      " |-- overall: integer (nullable = true)\n",
      " |-- potential: integer (nullable = true)\n",
      " |-- value_eur: integer (nullable = true)\n",
      " |-- wage_eur: integer (nullable = true)\n",
      " |-- player_positions: string (nullable = true)\n",
      " |-- preferred_foot: string (nullable = true)\n",
      " |-- international_reputation: integer (nullable = true)\n",
      " |-- weak_foot: integer (nullable = true)\n",
      " |-- skill_moves: integer (nullable = true)\n",
      " |-- work_rate: string (nullable = true)\n",
      " |-- body_type: string (nullable = true)\n",
      " |-- real_face: string (nullable = true)\n",
      " |-- team_position: string (nullable = true)\n",
      " |-- team_jersey_number: integer (nullable = true)\n",
      " |-- joined: string (nullable = true)\n",
      " |-- contract_valid_until: integer (nullable = true)\n",
      " |-- pace: integer (nullable = true)\n",
      " |-- shooting: integer (nullable = true)\n",
      " |-- passing: integer (nullable = true)\n",
      " |-- dribbling: integer (nullable = true)\n",
      " |-- defending: integer (nullable = true)\n",
      " |-- physic: integer (nullable = true)\n",
      " |-- attacking_crossing: integer (nullable = true)\n",
      " |-- attacking_finishing: integer (nullable = true)\n",
      " |-- attacking_heading_accuracy: integer (nullable = true)\n",
      " |-- attacking_short_passing: integer (nullable = true)\n",
      " |-- attacking_volleys: integer (nullable = true)\n",
      " |-- skill_dribbling: integer (nullable = true)\n",
      " |-- skill_curve: integer (nullable = true)\n",
      " |-- skill_fk_accuracy: integer (nullable = true)\n",
      " |-- skill_long_passing: integer (nullable = true)\n",
      " |-- skill_ball_control: integer (nullable = true)\n",
      " |-- movement_acceleration: integer (nullable = true)\n",
      " |-- movement_sprint_speed: integer (nullable = true)\n",
      " |-- movement_agility: integer (nullable = true)\n",
      " |-- movement_reactions: integer (nullable = true)\n",
      " |-- movement_balance: integer (nullable = true)\n",
      " |-- power_shot_power: integer (nullable = true)\n",
      " |-- power_jumping: integer (nullable = true)\n",
      " |-- power_stamina: integer (nullable = true)\n",
      " |-- power_strength: integer (nullable = true)\n",
      " |-- power_long_shots: integer (nullable = true)\n",
      " |-- mentality_aggression: integer (nullable = true)\n",
      " |-- mentality_interceptions: integer (nullable = true)\n",
      " |-- mentality_positioning: integer (nullable = true)\n",
      " |-- mentality_vision: integer (nullable = true)\n",
      " |-- mentality_penalties: integer (nullable = true)\n",
      " |-- mentality_composure: integer (nullable = true)\n",
      " |-- defending_marking: integer (nullable = true)\n",
      " |-- defending_standing_tackle: integer (nullable = true)\n",
      " |-- defending_sliding_tackle: integer (nullable = true)\n",
      " |-- goalkeeping_diving: integer (nullable = true)\n",
      " |-- goalkeeping_handling: integer (nullable = true)\n",
      " |-- goalkeeping_kicking: integer (nullable = true)\n",
      " |-- goalkeeping_positioning: integer (nullable = true)\n",
      " |-- goalkeeping_reflexes: integer (nullable = true)\n",
      " |-- ls: integer (nullable = true)\n",
      " |-- st: integer (nullable = true)\n",
      " |-- rs: integer (nullable = true)\n",
      " |-- lw: integer (nullable = true)\n",
      " |-- lf: integer (nullable = true)\n",
      " |-- cf: integer (nullable = true)\n",
      " |-- rf: integer (nullable = true)\n",
      " |-- rw: integer (nullable = true)\n",
      " |-- lam: integer (nullable = true)\n",
      " |-- cam: integer (nullable = true)\n",
      " |-- ram: integer (nullable = true)\n",
      " |-- lm: integer (nullable = true)\n",
      " |-- lcm: integer (nullable = true)\n",
      " |-- cm: integer (nullable = true)\n",
      " |-- rcm: integer (nullable = true)\n",
      " |-- rm: integer (nullable = true)\n",
      " |-- lwb: integer (nullable = true)\n",
      " |-- ldm: integer (nullable = true)\n",
      " |-- cdm: integer (nullable = true)\n",
      " |-- rdm: integer (nullable = true)\n",
      " |-- rwb: integer (nullable = true)\n",
      " |-- lb: integer (nullable = true)\n",
      " |-- lcb: integer (nullable = true)\n",
      " |-- cb: integer (nullable = true)\n",
      " |-- rcb: integer (nullable = true)\n",
      " |-- rb: integer (nullable = true)\n",
      "\n"
     ]
    }
   ],
   "source": [
    "skills = ['attacking_crossing','attacking_finishing','attacking_heading_accuracy','attacking_short_passing','attacking_volleys','skill_dribbling','skill_curve','skill_fk_accuracy','skill_long_passing','skill_ball_control','movement_acceleration','movement_sprint_speed','movement_agility','movement_reactions','movement_balance','power_shot_power','power_jumping','power_stamina','power_strength','power_long_shots','mentality_aggression','mentality_interceptions','mentality_positioning','mentality_vision','mentality_penalties','mentality_composure','defending_marking','defending_standing_tackle','defending_sliding_tackle','goalkeeping_diving','goalkeeping_handling','goalkeeping_kicking','goalkeeping_positioning','goalkeeping_reflexes','ls','st','rs','lw','lf','cf','rf','rw','lam','cam','ram','lm','lcm','cm','rcm','rm','lwb','ldm','cdm','rdm','rwb','lb','lcb','cb','rcb','rb']\n",
    "for name in skills:\n",
    "    main = name + '_main'\n",
    "    plus = name + '_plus'\n",
    "    minus = name + '_minus'\n",
    "    new = name + '_c'\n",
    "    full_df = full_df\\\n",
    "        .withColumn(main,regexp_extract(col(name), '^([0-9]+)', 1).cast(\"integer\"))\\\n",
    "        .withColumn(\"tmp1\",regexp_extract(col(name), '^([0-9]+)\\+([0-9]+)', 2).cast(\"integer\"))\\\n",
    "        .withColumn(\"tmp2\",regexp_extract(col(name), '^([0-9]+)\\-([0-9]+)', 2).cast(\"integer\"))\\\n",
    "        .withColumn(plus, when(col('tmp1').isNull(),0).otherwise(col('tmp1')).cast(\"integer\"))\\\n",
    "        .withColumn(minus, when(col('tmp2').isNull(),0).otherwise(col('tmp2')).cast(\"integer\"))\\\n",
    "        .withColumn(new, col(main)+col(plus)-col(minus))\n",
    "# here cast integer is important since it will transform \"\" to Null\n",
    "    full_df = full_df\\\n",
    "        .drop(col(main))\\\n",
    "        .drop(col('tmp1'))\\\n",
    "        .drop(col('tmp2'))\\\n",
    "        .drop(col(plus))\\\n",
    "        .drop(col(minus))\\\n",
    "        .drop(col(name))\\\n",
    "        .withColumnRenamed(new,name)\n",
    "full_df.printSchema()\n"
   ]
  },
  {
   "cell_type": "code",
   "execution_count": null,
   "id": "7b5a9bc5",
   "metadata": {},
   "outputs": [],
   "source": []
  },
  {
   "cell_type": "code",
   "execution_count": 49,
   "id": "f267db87",
   "metadata": {},
   "outputs": [
    {
     "name": "stderr",
     "output_type": "stream",
     "text": [
      "\r",
      "[Stage 102:>                                                        (0 + 1) / 1]\r"
     ]
    },
    {
     "name": "stdout",
     "output_type": "stream",
     "text": [
      "+---------+--------------------+-----------------+--------------------+---+----------+---------+---------+-----------+-------------------+-------+---------+---------+--------+----------------+--------------+------------------------+---------+-----------+-------------+---------+---------+-------------+------------------+----------+--------------------+----+--------+-------+---------+---------+------+------------------+-------------------+--------------------------+-----------------------+-----------------+---------------+-----------+-----------------+------------------+------------------+---------------------+---------------------+----------------+------------------+----------------+----------------+-------------+-------------+--------------+----------------+--------------------+-----------------------+---------------------+----------------+-------------------+-------------------+-----------------+-------------------------+------------------------+------------------+--------------------+-------------------+-----------------------+--------------------+----+----+----+----+----+----+----+----+----+----+----+----+----+----+----+----+----+----+----+----+----+----+----+----+----+----+\n",
      "|sofifa_id|          player_url|       short_name|           long_name|age|       dob|height_cm|weight_kg|nationality|               club|overall|potential|value_eur|wage_eur|player_positions|preferred_foot|international_reputation|weak_foot|skill_moves|    work_rate|body_type|real_face|team_position|team_jersey_number|    joined|contract_valid_until|pace|shooting|passing|dribbling|defending|physic|attacking_crossing|attacking_finishing|attacking_heading_accuracy|attacking_short_passing|attacking_volleys|skill_dribbling|skill_curve|skill_fk_accuracy|skill_long_passing|skill_ball_control|movement_acceleration|movement_sprint_speed|movement_agility|movement_reactions|movement_balance|power_shot_power|power_jumping|power_stamina|power_strength|power_long_shots|mentality_aggression|mentality_interceptions|mentality_positioning|mentality_vision|mentality_penalties|mentality_composure|defending_marking|defending_standing_tackle|defending_sliding_tackle|goalkeeping_diving|goalkeeping_handling|goalkeeping_kicking|goalkeeping_positioning|goalkeeping_reflexes|  ls|  st|  rs|  lw|  lf|  cf|  rf|  rw| lam| cam| ram|  lm| lcm|  cm| rcm|  rm| lwb| ldm| cdm| rdm| rwb|  lb| lcb|  cb| rcb|  rb|\n",
      "+---------+--------------------+-----------------+--------------------+---+----------+---------+---------+-----------+-------------------+-------+---------+---------+--------+----------------+--------------+------------------------+---------+-----------+-------------+---------+---------+-------------+------------------+----------+--------------------+----+--------+-------+---------+---------+------+------------------+-------------------+--------------------------+-----------------------+-----------------+---------------+-----------+-----------------+------------------+------------------+---------------------+---------------------+----------------+------------------+----------------+----------------+-------------+-------------+--------------+----------------+--------------------+-----------------------+---------------------+----------------+-------------------+-------------------+-----------------+-------------------------+------------------------+------------------+--------------------+-------------------+-----------------------+--------------------+----+----+----+----+----+----+----+----+----+----+----+----+----+----+----+----+----+----+----+----+----+----+----+----+----+----+\n",
      "|   158023|https://sofifa.co...|         L. Messi|Lionel Andrés Mes...| 27|1987-06-24|      169|       67|  Argentina|       FC Barcelona|     93|       95|        0|       0|              CF|          Left|                       5|        3|          4|   Medium/Low|   Normal|      Yes|           CF|                10|2004-07-01|                2018|  93|      89|     86|       96|       27|    63|                84|                 91|                        71|                     89|               80|             95|         91|               94|                76|                96|                   96|                   92|              94|                92|              95|              79|           73|           76|            60|              88|                  48|                     22|                   91|              90|                 76|               null|               25|                       21|                      20|                 6|                  11|                 15|                     14|                   8|  92|  92|  92|  95|  93|  93|  93|  95|  95|  95|  95|  93|  82|  82|  82|  93|  65|  65|  65|  65|  65|  57|  48|  48|  48|  57|\n",
      "|    20801|https://sofifa.co...|Cristiano Ronaldo|Cristiano Ronaldo...| 29|1985-02-05|      185|       80|   Portugal|        Real Madrid|     92|       92|        0|       0|          LW, LM|         Right|                       5|        4|          5|     High/Low|   Normal|      Yes|           LW|                 7|2009-07-01|                2018|  93|      93|     81|       91|       32|    79|                83|                 98|                        86|                     82|               89|             96|         88|               79|                72|                89|                   91|                   94|              93|                90|              51|              94|           94|           89|            79|              93|                  63|                     24|                   93|              81|                 85|               null|               22|                       31|                      23|                 7|                  11|                 15|                     14|                  11|  94|  94|  94|  92|  94|  94|  94|  92|  92|  92|  92|  90|  80|  80|  80|  90|  66|  66|  66|  66|  66|  60|  55|  55|  55|  60|\n",
      "|     9014|https://sofifa.co...|        A. Robben|        Arjen Robben| 30|1984-01-23|      180|       80|Netherlands|  FC Bayern München|     90|       90|        0|       0|      RM, LM, RW|          Left|                       5|        2|          4|     High/Low|   Normal|      Yes|          SUB|                10|2009-08-28|                2017|  93|      86|     83|       92|       32|    64|                80|                 87|                        50|                     88|               88|             93|         85|               82|                79|                91|                   93|                   95|              94|                91|              91|              86|           61|           89|            65|              91|                  56|                     40|                   91|              86|                 81|               null|               29|                       28|                      27|                10|                   8|                 11|                      5|                  15|  87|  87|  87|  91|  90|  90|  90|  91|  91|  91|  91|  90|  81|  81|  81|  90|  67|  67|  67|  67|  67|  58|  49|  49|  49|  58|\n",
      "|    41236|https://sofifa.co...|   Z. Ibrahimović|  Zlatan Ibrahimović| 32|1981-10-03|      195|       95|     Sweden|Paris Saint-Germain|     90|       90|        0|       0|              ST|         Right|                       5|        4|          4|   Medium/Low|   Normal|      Yes|           ST|                10|2012-07-01|                2016|  76|      91|     81|       86|       34|    86|                76|                 91|                        76|                     82|               95|             88|         80|               80|                80|                90|                   76|                   76|              86|                85|              41|              93|           72|           78|            93|              88|                  84|                     20|                   86|              82|                 91|               null|               25|                       33|                      27|                13|                  15|                 10|                      9|                  12|  90|  90|  90|  87|  89|  89|  89|  87|  89|  89|  89|  86|  79|  79|  79|  86|  64|  68|  68|  68|  64|  59|  58|  58|  58|  59|\n",
      "|   167495|https://sofifa.co...|         M. Neuer|        Manuel Neuer| 28|1986-03-27|      193|       92|    Germany|  FC Bayern München|     90|       90|        0|       0|              GK|         Right|                       5|        4|          1|Medium/Medium|   Normal|      Yes|           GK|                 1|2011-07-01|                2019|null|    null|   null|     null|     null|  null|                25|                 25|                        25|                     42|               25|             25|         25|               25|                41|                31|                   66|                   68|              47|                92|              35|              42|           78|           53|            88|              25|                  32|                     38|                   25|              20|                 37|               null|               25|                       25|                      25|                87|                  88|                 92|                     96|                  86|null|null|null|null|null|null|null|null|null|null|null|null|null|null|null|null|null|null|null|null|null|null|null|null|null|null|\n",
      "+---------+--------------------+-----------------+--------------------+---+----------+---------+---------+-----------+-------------------+-------+---------+---------+--------+----------------+--------------+------------------------+---------+-----------+-------------+---------+---------+-------------+------------------+----------+--------------------+----+--------+-------+---------+---------+------+------------------+-------------------+--------------------------+-----------------------+-----------------+---------------+-----------+-----------------+------------------+------------------+---------------------+---------------------+----------------+------------------+----------------+----------------+-------------+-------------+--------------+----------------+--------------------+-----------------------+---------------------+----------------+-------------------+-------------------+-----------------+-------------------------+------------------------+------------------+--------------------+-------------------+-----------------------+--------------------+----+----+----+----+----+----+----+----+----+----+----+----+----+----+----+----+----+----+----+----+----+----+----+----+----+----+\n",
      "only showing top 5 rows\n",
      "\n"
     ]
    },
    {
     "name": "stderr",
     "output_type": "stream",
     "text": [
      "\r",
      "                                                                                \r"
     ]
    }
   ],
   "source": [
    "full_df.show(5)"
   ]
  },
  {
   "cell_type": "code",
   "execution_count": 50,
   "id": "a90668b7-c9ff-444f-abd5-90111108c89d",
   "metadata": {},
   "outputs": [
    {
     "name": "stderr",
     "output_type": "stream",
     "text": [
      "[Stage 106:===================================================>   (15 + 1) / 16]\r"
     ]
    },
    {
     "name": "stdout",
     "output_type": "stream",
     "text": [
      "+------------------+-------------------+--------------------------+-----------------------+-----------------+---------------+-----------+-----------------+------------------+------------------+---------------------+---------------------+----------------+------------------+----------------+----------------+-------------+-------------+--------------+----------------+--------------------+-----------------------+---------------------+----------------+-------------------+-------------------+-----------------+-------------------------+------------------------+------------------+--------------------+-------------------+-----------------------+--------------------+-----+-----+-----+-----+-----+-----+-----+-----+-----+-----+-----+-----+-----+-----+-----+-----+-----+-----+-----+-----+-----+-----+-----+-----+-----+-----+\n",
      "|attacking_crossing|attacking_finishing|attacking_heading_accuracy|attacking_short_passing|attacking_volleys|skill_dribbling|skill_curve|skill_fk_accuracy|skill_long_passing|skill_ball_control|movement_acceleration|movement_sprint_speed|movement_agility|movement_reactions|movement_balance|power_shot_power|power_jumping|power_stamina|power_strength|power_long_shots|mentality_aggression|mentality_interceptions|mentality_positioning|mentality_vision|mentality_penalties|mentality_composure|defending_marking|defending_standing_tackle|defending_sliding_tackle|goalkeeping_diving|goalkeeping_handling|goalkeeping_kicking|goalkeeping_positioning|goalkeeping_reflexes|   ls|   st|   rs|   lw|   lf|   cf|   rf|   rw|  lam|  cam|  ram|   lm|  lcm|   cm|  rcm|   rm|  lwb|  ldm|  cdm|  rdm|  rwb|   lb|  lcb|   cb|  rcb|   rb|\n",
      "+------------------+-------------------+--------------------------+-----------------------+-----------------+---------------+-----------+-----------------+------------------+------------------+---------------------+---------------------+----------------+------------------+----------------+----------------+-------------+-------------+--------------+----------------+--------------------+-----------------------+---------------------+----------------+-------------------+-------------------+-----------------+-------------------------+------------------------+------------------+--------------------+-------------------+-----------------------+--------------------+-----+-----+-----+-----+-----+-----+-----+-----+-----+-----+-----+-----+-----+-----+-----+-----+-----+-----+-----+-----+-----+-----+-----+-----+-----+-----+\n",
      "|                 0|                  0|                         0|                      0|                0|              0|          0|                0|                 0|                 0|                    0|                    0|               0|                 0|               0|               0|            0|            0|             0|               0|                   0|                      0|                    0|               0|                  0|              30346|                0|                        0|                       0|                 0|                   0|                  0|                      0|                   0|11247|11247|11247|11247|11247|11247|11247|11247|11247|11247|11247|11247|11247|11247|11247|11247|11247|11247|11247|11247|11247|11247|11247|11247|11247|11247|\n",
      "+------------------+-------------------+--------------------------+-----------------------+-----------------+---------------+-----------+-----------------+------------------+------------------+---------------------+---------------------+----------------+------------------+----------------+----------------+-------------+-------------+--------------+----------------+--------------------+-----------------------+---------------------+----------------+-------------------+-------------------+-----------------+-------------------------+------------------------+------------------+--------------------+-------------------+-----------------------+--------------------+-----+-----+-----+-----+-----+-----+-----+-----+-----+-----+-----+-----+-----+-----+-----+-----+-----+-----+-----+-----+-----+-----+-----+-----+-----+-----+\n",
      "\n"
     ]
    },
    {
     "name": "stderr",
     "output_type": "stream",
     "text": [
      "\r",
      "                                                                                \r"
     ]
    }
   ],
   "source": [
    "thr = full_df.count()/2\n",
    "full_df.select([count(when(isnan(c) | col(c).isNull(), c)).alias(c) for c in skills]).show()\n",
    "    \n",
    "    "
   ]
  },
  {
   "cell_type": "markdown",
   "id": "96517524-c781-4a1e-a090-8caf0257b280",
   "metadata": {},
   "source": [
    "We do not need to remove any columns, since no columns contains more than 50% of null"
   ]
  },
  {
   "cell_type": "code",
   "execution_count": 51,
   "id": "06d3537c-167c-457b-af56-871c0e256040",
   "metadata": {},
   "outputs": [
    {
     "name": "stderr",
     "output_type": "stream",
     "text": [
      "                                                                                \r"
     ]
    }
   ],
   "source": [
    "imputer = Imputer (\n",
    "inputCols=skills,\n",
    "outputCols=[\"{}_imputed\".format(c) for c in skills]\n",
    ").setStrategy(\"mean\").setMissingValue(0)\n",
    "\n",
    "full_imputed_df = imputer.fit(full_df).transform(full_df)\n",
    "for name in skills:\n",
    "    newname = name + '_imputed'\n",
    "    full_imputed_df = full_imputed_df.drop(name)\n",
    "    full_imputed_df = full_imputed_df.withColumnRenamed(newname,name)"
   ]
  },
  {
   "cell_type": "code",
   "execution_count": 52,
   "id": "acb90df9-a126-440b-99e2-e89ca69dfe7d",
   "metadata": {},
   "outputs": [
    {
     "name": "stderr",
     "output_type": "stream",
     "text": [
      "\r",
      "[Stage 114:>                                                        (0 + 1) / 1]\r"
     ]
    },
    {
     "name": "stdout",
     "output_type": "stream",
     "text": [
      "+---------+--------------------+-----------------+--------------------+---+----------+---------+---------+-----------+-------------------+-------+---------+---------+--------+----------------+--------------+------------------------+---------+-----------+-------------+---------+---------+-------------+------------------+----------+--------------------+----+--------+-------+---------+---------+------+------------------+-------------------+--------------------------+-----------------------+-----------------+---------------+-----------+-----------------+------------------+------------------+---------------------+---------------------+----------------+------------------+----------------+----------------+-------------+-------------+--------------+----------------+--------------------+-----------------------+---------------------+----------------+-------------------+-------------------+-----------------+-------------------------+------------------------+------------------+--------------------+-------------------+-----------------------+--------------------+---+---+---+---+---+---+---+---+---+---+---+---+---+---+---+---+---+---+---+---+---+---+---+---+---+---+\n",
      "|sofifa_id|          player_url|       short_name|           long_name|age|       dob|height_cm|weight_kg|nationality|               club|overall|potential|value_eur|wage_eur|player_positions|preferred_foot|international_reputation|weak_foot|skill_moves|    work_rate|body_type|real_face|team_position|team_jersey_number|    joined|contract_valid_until|pace|shooting|passing|dribbling|defending|physic|attacking_crossing|attacking_finishing|attacking_heading_accuracy|attacking_short_passing|attacking_volleys|skill_dribbling|skill_curve|skill_fk_accuracy|skill_long_passing|skill_ball_control|movement_acceleration|movement_sprint_speed|movement_agility|movement_reactions|movement_balance|power_shot_power|power_jumping|power_stamina|power_strength|power_long_shots|mentality_aggression|mentality_interceptions|mentality_positioning|mentality_vision|mentality_penalties|mentality_composure|defending_marking|defending_standing_tackle|defending_sliding_tackle|goalkeeping_diving|goalkeeping_handling|goalkeeping_kicking|goalkeeping_positioning|goalkeeping_reflexes| ls| st| rs| lw| lf| cf| rf| rw|lam|cam|ram| lm|lcm| cm|rcm| rm|lwb|ldm|cdm|rdm|rwb| lb|lcb| cb|rcb| rb|\n",
      "+---------+--------------------+-----------------+--------------------+---+----------+---------+---------+-----------+-------------------+-------+---------+---------+--------+----------------+--------------+------------------------+---------+-----------+-------------+---------+---------+-------------+------------------+----------+--------------------+----+--------+-------+---------+---------+------+------------------+-------------------+--------------------------+-----------------------+-----------------+---------------+-----------+-----------------+------------------+------------------+---------------------+---------------------+----------------+------------------+----------------+----------------+-------------+-------------+--------------+----------------+--------------------+-----------------------+---------------------+----------------+-------------------+-------------------+-----------------+-------------------------+------------------------+------------------+--------------------+-------------------+-----------------------+--------------------+---+---+---+---+---+---+---+---+---+---+---+---+---+---+---+---+---+---+---+---+---+---+---+---+---+---+\n",
      "|   158023|https://sofifa.co...|         L. Messi|Lionel Andrés Mes...| 27|1987-06-24|      169|       67|  Argentina|       FC Barcelona|     93|       95|        0|       0|              CF|          Left|                       5|        3|          4|   Medium/Low|   Normal|      Yes|           CF|                10|2004-07-01|                2018|  93|      89|     86|       96|       27|    63|                84|                 91|                        71|                     89|               80|             95|         91|               94|                76|                96|                   96|                   92|              94|                92|              95|              79|           73|           76|            60|              88|                  48|                     22|                   91|              90|                 76|                 58|               25|                       21|                      20|                 6|                  11|                 15|                     14|                   8| 92| 92| 92| 95| 93| 93| 93| 95| 95| 95| 95| 93| 82| 82| 82| 93| 65| 65| 65| 65| 65| 57| 48| 48| 48| 57|\n",
      "|    20801|https://sofifa.co...|Cristiano Ronaldo|Cristiano Ronaldo...| 29|1985-02-05|      185|       80|   Portugal|        Real Madrid|     92|       92|        0|       0|          LW, LM|         Right|                       5|        4|          5|     High/Low|   Normal|      Yes|           LW|                 7|2009-07-01|                2018|  93|      93|     81|       91|       32|    79|                83|                 98|                        86|                     82|               89|             96|         88|               79|                72|                89|                   91|                   94|              93|                90|              51|              94|           94|           89|            79|              93|                  63|                     24|                   93|              81|                 85|                 58|               22|                       31|                      23|                 7|                  11|                 15|                     14|                  11| 94| 94| 94| 92| 94| 94| 94| 92| 92| 92| 92| 90| 80| 80| 80| 90| 66| 66| 66| 66| 66| 60| 55| 55| 55| 60|\n",
      "|     9014|https://sofifa.co...|        A. Robben|        Arjen Robben| 30|1984-01-23|      180|       80|Netherlands|  FC Bayern München|     90|       90|        0|       0|      RM, LM, RW|          Left|                       5|        2|          4|     High/Low|   Normal|      Yes|          SUB|                10|2009-08-28|                2017|  93|      86|     83|       92|       32|    64|                80|                 87|                        50|                     88|               88|             93|         85|               82|                79|                91|                   93|                   95|              94|                91|              91|              86|           61|           89|            65|              91|                  56|                     40|                   91|              86|                 81|                 58|               29|                       28|                      27|                10|                   8|                 11|                      5|                  15| 87| 87| 87| 91| 90| 90| 90| 91| 91| 91| 91| 90| 81| 81| 81| 90| 67| 67| 67| 67| 67| 58| 49| 49| 49| 58|\n",
      "|    41236|https://sofifa.co...|   Z. Ibrahimović|  Zlatan Ibrahimović| 32|1981-10-03|      195|       95|     Sweden|Paris Saint-Germain|     90|       90|        0|       0|              ST|         Right|                       5|        4|          4|   Medium/Low|   Normal|      Yes|           ST|                10|2012-07-01|                2016|  76|      91|     81|       86|       34|    86|                76|                 91|                        76|                     82|               95|             88|         80|               80|                80|                90|                   76|                   76|              86|                85|              41|              93|           72|           78|            93|              88|                  84|                     20|                   86|              82|                 91|                 58|               25|                       33|                      27|                13|                  15|                 10|                      9|                  12| 90| 90| 90| 87| 89| 89| 89| 87| 89| 89| 89| 86| 79| 79| 79| 86| 64| 68| 68| 68| 64| 59| 58| 58| 58| 59|\n",
      "|   167495|https://sofifa.co...|         M. Neuer|        Manuel Neuer| 28|1986-03-27|      193|       92|    Germany|  FC Bayern München|     90|       90|        0|       0|              GK|         Right|                       5|        4|          1|Medium/Medium|   Normal|      Yes|           GK|                 1|2011-07-01|                2019|null|    null|   null|     null|     null|  null|                25|                 25|                        25|                     42|               25|             25|         25|               25|                41|                31|                   66|                   68|              47|                92|              35|              42|           78|           53|            88|              25|                  32|                     38|                   25|              20|                 37|                 58|               25|                       25|                      25|                87|                  88|                 92|                     96|                  86| 59| 59| 59| 60| 59| 59| 59| 60| 60| 60| 60| 61| 59| 59| 59| 61| 58| 58| 58| 58| 58| 57| 56| 56| 56| 57|\n",
      "+---------+--------------------+-----------------+--------------------+---+----------+---------+---------+-----------+-------------------+-------+---------+---------+--------+----------------+--------------+------------------------+---------+-----------+-------------+---------+---------+-------------+------------------+----------+--------------------+----+--------+-------+---------+---------+------+------------------+-------------------+--------------------------+-----------------------+-----------------+---------------+-----------+-----------------+------------------+------------------+---------------------+---------------------+----------------+------------------+----------------+----------------+-------------+-------------+--------------+----------------+--------------------+-----------------------+---------------------+----------------+-------------------+-------------------+-----------------+-------------------------+------------------------+------------------+--------------------+-------------------+-----------------------+--------------------+---+---+---+---+---+---+---+---+---+---+---+---+---+---+---+---+---+---+---+---+---+---+---+---+---+---+\n",
      "only showing top 5 rows\n",
      "\n"
     ]
    },
    {
     "name": "stderr",
     "output_type": "stream",
     "text": [
      "\r",
      "                                                                                \r"
     ]
    }
   ],
   "source": [
    "full_imputed_df.show(5)"
   ]
  },
  {
   "cell_type": "markdown",
   "id": "fc64d316-3936-4e4e-b1e3-60d7bd9ff197",
   "metadata": {},
   "source": [
    "Inputed"
   ]
  },
  {
   "cell_type": "code",
   "execution_count": 53,
   "id": "50bba706-ab1b-47c8-9247-1abc6adc8b0c",
   "metadata": {},
   "outputs": [],
   "source": [
    "from pyspark import SparkContext, SparkConf, SQLContext\n",
    "import os\n",
    "db_properties={}\n",
    "db_properties['username']=\"postgres\"\n",
    "db_properties['password']=\"990331\"\n",
    "# make sure to use the correct port number. These \n",
    "db_properties['url']= \"jdbc:postgresql://localhost:5432/postgres\"\n",
    "db_properties['driver']=\"org.postgresql.Driver\""
   ]
  },
  {
   "cell_type": "code",
   "execution_count": 54,
   "id": "3f2f414b",
   "metadata": {},
   "outputs": [
    {
     "name": "stderr",
     "output_type": "stream",
     "text": [
      "                                                                                \r"
     ]
    }
   ],
   "source": [
    "full_imputed_df.write.format(\"jdbc\")\\\n",
    ".mode(\"overwrite\")\\\n",
    ".option(\"url\", \"jdbc:postgresql://localhost:5432/postgres\")\\\n",
    ".option(\"dbtable\", \"fifa.player_info\")\\\n",
    ".option(\"user\", \"postgres\")\\\n",
    ".option(\"password\", \"990331\")\\\n",
    ".option(\"Driver\", \"org.postgresql.Driver\")\\\n",
    ".save()"
   ]
  },
  {
   "cell_type": "code",
   "execution_count": 55,
   "id": "21c99ded",
   "metadata": {},
   "outputs": [
    {
     "name": "stdout",
     "output_type": "stream",
     "text": [
      "root\n",
      " |-- sofifa_id: integer (nullable = true)\n",
      " |-- player_url: string (nullable = true)\n",
      " |-- short_name: string (nullable = true)\n",
      " |-- long_name: string (nullable = true)\n",
      " |-- age: integer (nullable = true)\n",
      " |-- dob: string (nullable = true)\n",
      " |-- height_cm: integer (nullable = true)\n",
      " |-- weight_kg: integer (nullable = true)\n",
      " |-- nationality: string (nullable = true)\n",
      " |-- club: string (nullable = true)\n",
      " |-- overall: integer (nullable = true)\n",
      " |-- potential: integer (nullable = true)\n",
      " |-- value_eur: integer (nullable = true)\n",
      " |-- wage_eur: integer (nullable = true)\n",
      " |-- player_positions: string (nullable = true)\n",
      " |-- preferred_foot: string (nullable = true)\n",
      " |-- international_reputation: integer (nullable = true)\n",
      " |-- weak_foot: integer (nullable = true)\n",
      " |-- skill_moves: integer (nullable = true)\n",
      " |-- work_rate: string (nullable = true)\n",
      " |-- body_type: string (nullable = true)\n",
      " |-- real_face: string (nullable = true)\n",
      " |-- team_position: string (nullable = true)\n",
      " |-- team_jersey_number: integer (nullable = true)\n",
      " |-- joined: string (nullable = true)\n",
      " |-- contract_valid_until: integer (nullable = true)\n",
      " |-- pace: integer (nullable = true)\n",
      " |-- shooting: integer (nullable = true)\n",
      " |-- passing: integer (nullable = true)\n",
      " |-- dribbling: integer (nullable = true)\n",
      " |-- defending: integer (nullable = true)\n",
      " |-- physic: integer (nullable = true)\n",
      " |-- attacking_crossing: integer (nullable = true)\n",
      " |-- attacking_finishing: integer (nullable = true)\n",
      " |-- attacking_heading_accuracy: integer (nullable = true)\n",
      " |-- attacking_short_passing: integer (nullable = true)\n",
      " |-- attacking_volleys: integer (nullable = true)\n",
      " |-- skill_dribbling: integer (nullable = true)\n",
      " |-- skill_curve: integer (nullable = true)\n",
      " |-- skill_fk_accuracy: integer (nullable = true)\n",
      " |-- skill_long_passing: integer (nullable = true)\n",
      " |-- skill_ball_control: integer (nullable = true)\n",
      " |-- movement_acceleration: integer (nullable = true)\n",
      " |-- movement_sprint_speed: integer (nullable = true)\n",
      " |-- movement_agility: integer (nullable = true)\n",
      " |-- movement_reactions: integer (nullable = true)\n",
      " |-- movement_balance: integer (nullable = true)\n",
      " |-- power_shot_power: integer (nullable = true)\n",
      " |-- power_jumping: integer (nullable = true)\n",
      " |-- power_stamina: integer (nullable = true)\n",
      " |-- power_strength: integer (nullable = true)\n",
      " |-- power_long_shots: integer (nullable = true)\n",
      " |-- mentality_aggression: integer (nullable = true)\n",
      " |-- mentality_interceptions: integer (nullable = true)\n",
      " |-- mentality_positioning: integer (nullable = true)\n",
      " |-- mentality_vision: integer (nullable = true)\n",
      " |-- mentality_penalties: integer (nullable = true)\n",
      " |-- mentality_composure: integer (nullable = true)\n",
      " |-- defending_marking: integer (nullable = true)\n",
      " |-- defending_standing_tackle: integer (nullable = true)\n",
      " |-- defending_sliding_tackle: integer (nullable = true)\n",
      " |-- goalkeeping_diving: integer (nullable = true)\n",
      " |-- goalkeeping_handling: integer (nullable = true)\n",
      " |-- goalkeeping_kicking: integer (nullable = true)\n",
      " |-- goalkeeping_positioning: integer (nullable = true)\n",
      " |-- goalkeeping_reflexes: integer (nullable = true)\n",
      " |-- ls: integer (nullable = true)\n",
      " |-- st: integer (nullable = true)\n",
      " |-- rs: integer (nullable = true)\n",
      " |-- lw: integer (nullable = true)\n",
      " |-- lf: integer (nullable = true)\n",
      " |-- cf: integer (nullable = true)\n",
      " |-- rf: integer (nullable = true)\n",
      " |-- rw: integer (nullable = true)\n",
      " |-- lam: integer (nullable = true)\n",
      " |-- cam: integer (nullable = true)\n",
      " |-- ram: integer (nullable = true)\n",
      " |-- lm: integer (nullable = true)\n",
      " |-- lcm: integer (nullable = true)\n",
      " |-- cm: integer (nullable = true)\n",
      " |-- rcm: integer (nullable = true)\n",
      " |-- rm: integer (nullable = true)\n",
      " |-- lwb: integer (nullable = true)\n",
      " |-- ldm: integer (nullable = true)\n",
      " |-- cdm: integer (nullable = true)\n",
      " |-- rdm: integer (nullable = true)\n",
      " |-- rwb: integer (nullable = true)\n",
      " |-- lb: integer (nullable = true)\n",
      " |-- lcb: integer (nullable = true)\n",
      " |-- cb: integer (nullable = true)\n",
      " |-- rcb: integer (nullable = true)\n",
      " |-- rb: integer (nullable = true)\n",
      "\n"
     ]
    },
    {
     "name": "stderr",
     "output_type": "stream",
     "text": [
      "\r",
      "[Stage 116:>                                                        (0 + 1) / 1]\r"
     ]
    },
    {
     "name": "stdout",
     "output_type": "stream",
     "text": [
      "+---------+--------------------+------------+--------------------+---+----------+---------+---------+------------+--------------------+-------+---------+---------+--------+----------------+--------------+------------------------+---------+-----------+-------------+---------+---------+-------------+------------------+----------+--------------------+----+--------+-------+---------+---------+------+------------------+-------------------+--------------------------+-----------------------+-----------------+---------------+-----------+-----------------+------------------+------------------+---------------------+---------------------+----------------+------------------+----------------+----------------+-------------+-------------+--------------+----------------+--------------------+-----------------------+---------------------+----------------+-------------------+-------------------+-----------------+-------------------------+------------------------+------------------+--------------------+-------------------+-----------------------+--------------------+---+---+---+---+---+---+---+---+---+---+---+---+---+---+---+---+---+---+---+---+---+---+---+---+---+---+\n",
      "|sofifa_id|          player_url|  short_name|           long_name|age|       dob|height_cm|weight_kg| nationality|                club|overall|potential|value_eur|wage_eur|player_positions|preferred_foot|international_reputation|weak_foot|skill_moves|    work_rate|body_type|real_face|team_position|team_jersey_number|    joined|contract_valid_until|pace|shooting|passing|dribbling|defending|physic|attacking_crossing|attacking_finishing|attacking_heading_accuracy|attacking_short_passing|attacking_volleys|skill_dribbling|skill_curve|skill_fk_accuracy|skill_long_passing|skill_ball_control|movement_acceleration|movement_sprint_speed|movement_agility|movement_reactions|movement_balance|power_shot_power|power_jumping|power_stamina|power_strength|power_long_shots|mentality_aggression|mentality_interceptions|mentality_positioning|mentality_vision|mentality_penalties|mentality_composure|defending_marking|defending_standing_tackle|defending_sliding_tackle|goalkeeping_diving|goalkeeping_handling|goalkeeping_kicking|goalkeeping_positioning|goalkeeping_reflexes| ls| st| rs| lw| lf| cf| rf| rw|lam|cam|ram| lm|lcm| cm|rcm| rm|lwb|ldm|cdm|rdm|rwb| lb|lcb| cb|rcb| rb|\n",
      "+---------+--------------------+------------+--------------------+---+----------+---------+---------+------------+--------------------+-------+---------+---------+--------+----------------+--------------+------------------------+---------+-----------+-------------+---------+---------+-------------+------------------+----------+--------------------+----+--------+-------+---------+---------+------+------------------+-------------------+--------------------------+-----------------------+-----------------+---------------+-----------+-----------------+------------------+------------------+---------------------+---------------------+----------------+------------------+----------------+----------------+-------------+-------------+--------------+----------------+--------------------+-----------------------+---------------------+----------------+-------------------+-------------------+-----------------+-------------------------+------------------------+------------------+--------------------+-------------------+-----------------------+--------------------+---+---+---+---+---+---+---+---+---+---+---+---+---+---+---+---+---+---+---+---+---+---+---+---+---+---+\n",
      "|   223844|https://sofifa.co...|     Aderlan|Aderlan de Lima S...| 23|1990-08-18|      180|       69|      Brazil|Associação Académ...|     63|       69|        0|       0|              RB|         Right|                       1|        2|          2|  High/Medium|     Lean|       No|           RB|                29|2013-01-01|                2016|  80|      54|     58|       67|       60|    59|                63|                 45|                        54|                     62|               45|             67|         58|               36|                61|                62|                   83|                   78|              78|                62|              77|              68|           73|           73|            47|              69|                  67|                     69|                   55|              49|                 34|                 58|               57|                       60|                      59|                11|                  10|                  9|                     12|                   6| 59| 59| 59| 64| 61| 61| 61| 64| 61| 61| 61| 64| 62| 62| 62| 64| 64| 61| 61| 61| 64| 63| 60| 60| 60| 63|\n",
      "|   223946|https://sofifa.co...|D. Escalante|David Jonathan Es...| 23|1991-05-21|      188|       90|   Argentina|        AC Barnechea|     63|       69|        0|       0|              ST|         Right|                       1|        3|          2|     High/Low|   Stocky|       No|          SUB|                 9|2014-06-01|                2021|  66|      68|     36|       55|       26|    67|                28|                 73|                        62|                     40|               60|             56|         31|               23|                37|                58|                   65|                   66|              56|                44|              42|              72|           62|           56|            79|              55|                  51|                     20|                   66|              41|                 65|                 58|               21|                       23|                      22|                10|                  13|                  9|                     15|                   9| 63| 63| 63| 51| 59| 59| 59| 51| 53| 53| 53| 48| 44| 44| 44| 48| 37| 39| 39| 39| 37| 37| 39| 39| 39| 37|\n",
      "|   224802|https://sofifa.co...|   P. Burzio|  Pablo César Burzio| 21|1992-12-12|      180|       72|   Argentina|  Arsenal de Sarandí|     63|       69|        0|       0|              ST|         Right|                       1|        3|          2|   Medium/Low|   Normal|       No|          SUB|                14|2011-01-01|                2021|  60|      62|     45|       63|       28|    58|                38|                 65|                        64|                     54|               62|             63|         44|               34|                34|                64|                   61|                   60|              66|                63|              57|              64|           77|           44|            71|              56|                  37|                     26|                   64|              47|                 58|                 58|               25|                       21|                      22|                 5|                  13|                  8|                     15|                  13| 63| 63| 63| 57| 61| 61| 61| 57| 59| 59| 59| 54| 49| 49| 49| 54| 42| 43| 43| 43| 42| 39| 41| 41| 41| 39|\n",
      "|   224917|https://sofifa.co...|  T. Rakhale|       Thabo Rakhale| 24|1990-03-20|      176|       63|South Africa|     Orlando Pirates|     63|       69|        0|       0|              RW|         Right|                       1|        3|          3|Medium/Medium|     Lean|       No|          RES|                19|2012-07-01|                2021|  74|      54|     55|       67|       27|    49|                61|                 48|                        41|                     55|               55|             66|         55|               45|                41|                72|                   76|                   73|              61|                41|              75|              61|           45|           66|            42|              58|                  44|                     23|                   68|              61|                 52|                 58|               25|                       28|                      27|                 5|                   8|                 14|                      9|                   7| 57| 57| 57| 63| 59| 59| 59| 63| 61| 61| 61| 61| 53| 53| 53| 61| 47| 44| 44| 44| 47| 42| 36| 36| 36| 42|\n",
      "|   144037|https://sofifa.co...|  G. Kusunga|    Genséric Kusunga| 26|1988-03-12|      186|       83|      Angola|     Oldham Athletic|     63|       68|        0|       0|          CB, RB|         Right|                       1|        3|          2|Medium/Medium|   Normal|       No|          SUB|                21|2013-09-02|                2015|  66|      43|     51|       51|       62|    73|                45|                 31|                        66|                     66|               38|             40|         35|               32|                58|                48|                   65|                   66|              60|                56|              37|              66|           66|           62|            82|              47|                  65|                     63|                   31|              35|                 54|                 58|               65|                       60|                      53|                 7|                  13|                  6|                      6|                  11| 49| 49| 49| 50| 50| 50| 50| 50| 49| 49| 49| 52| 53| 53| 53| 52| 58| 60| 60| 60| 58| 60| 63| 63| 63| 60|\n",
      "+---------+--------------------+------------+--------------------+---+----------+---------+---------+------------+--------------------+-------+---------+---------+--------+----------------+--------------+------------------------+---------+-----------+-------------+---------+---------+-------------+------------------+----------+--------------------+----+--------+-------+---------+---------+------+------------------+-------------------+--------------------------+-----------------------+-----------------+---------------+-----------+-----------------+------------------+------------------+---------------------+---------------------+----------------+------------------+----------------+----------------+-------------+-------------+--------------+----------------+--------------------+-----------------------+---------------------+----------------+-------------------+-------------------+-----------------+-------------------------+------------------------+------------------+--------------------+-------------------+-----------------------+--------------------+---+---+---+---+---+---+---+---+---+---+---+---+---+---+---+---+---+---+---+---+---+---+---+---+---+---+\n",
      "only showing top 5 rows\n",
      "\n"
     ]
    },
    {
     "name": "stderr",
     "output_type": "stream",
     "text": [
      "\r",
      "                                                                                \r"
     ]
    }
   ],
   "source": [
    "full_imputed_df_read = sqlContext.read.format(\"jdbc\")\\\n",
    "    .option(\"url\", \"jdbc:postgresql://localhost:5432/postgres\")\\\n",
    "    .option(\"dbtable\", \"fifa.player_info\")\\\n",
    "    .option(\"user\", \"postgres\")\\\n",
    "    .option(\"password\", \"990331\")\\\n",
    "    .option(\"Driver\", \"org.postgresql.Driver\")\\\n",
    "    .load()\n",
    "\n",
    "full_imputed_df_read.printSchema()\n",
    "full_imputed_df_read.show(5)"
   ]
  },
  {
   "cell_type": "code",
   "execution_count": null,
   "id": "19b2c26a",
   "metadata": {},
   "outputs": [],
   "source": []
  },
  {
   "cell_type": "code",
   "execution_count": null,
   "id": "d8046ba2",
   "metadata": {},
   "outputs": [],
   "source": []
  }
 ],
 "metadata": {
  "kernelspec": {
   "display_name": "Python 3",
   "language": "python",
   "name": "python3"
  },
  "language_info": {
   "codemirror_mode": {
    "name": "ipython",
    "version": 3
   },
   "file_extension": ".py",
   "mimetype": "text/x-python",
   "name": "python",
   "nbconvert_exporter": "python",
   "pygments_lexer": "ipython3",
   "version": "3.9.10"
  }
 },
 "nbformat": 4,
 "nbformat_minor": 5
}
